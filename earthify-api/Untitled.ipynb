{
 "cells": [
  {
   "cell_type": "code",
   "execution_count": 1,
   "id": "9f3c99ee",
   "metadata": {
    "pycharm": {
     "name": "#%%\n"
    }
   },
   "outputs": [],
   "source": [
    "import geopandas as gpd"
   ]
  },
  {
   "cell_type": "code",
   "execution_count": 2,
   "id": "74e66c66",
   "metadata": {
    "pycharm": {
     "name": "#%%\n"
    }
   },
   "outputs": [],
   "source": [
    "df = gpd.read_file('esri_places.geojson')"
   ]
  },
  {
   "cell_type": "code",
   "execution_count": 5,
   "id": "7307a3f0",
   "metadata": {
    "pycharm": {
     "name": "#%%\n"
    }
   },
   "outputs": [
    {
     "data": {
      "text/plain": [
       "Index(['OBJECTID', 'NAME', 'CLASS', 'ST', 'STFIPS', 'PLACEFIPS', 'HOUSEUNITS',\n",
       "       'POPULATION', 'POP_CLASS', 'geometry'],\n",
       "      dtype='object')"
      ]
     },
     "execution_count": 5,
     "metadata": {},
     "output_type": "execute_result"
    }
   ],
   "source": [
    "df.columns"
   ]
  },
  {
   "cell_type": "code",
   "execution_count": 7,
   "id": "e2c566d0",
   "metadata": {
    "pycharm": {
     "name": "#%%\n"
    }
   },
   "outputs": [],
   "source": [
    "col = ['OBJECTID', 'NAME', 'CLASS','geometry']"
   ]
  },
  {
   "cell_type": "code",
   "execution_count": 10,
   "id": "7762c53c",
   "metadata": {
    "pycharm": {
     "name": "#%%\n"
    }
   },
   "outputs": [],
   "source": [
    "df = df[col]"
   ]
  },
  {
   "cell_type": "code",
   "execution_count": 15,
   "id": "a1267b65",
   "metadata": {
    "pycharm": {
     "name": "#%%\n"
    }
   },
   "outputs": [],
   "source": [
    "df.columns = ['col1', 'col2', 'col3','geometry']"
   ]
  },
  {
   "cell_type": "code",
   "execution_count": 16,
   "id": "5ae87e91",
   "metadata": {
    "pycharm": {
     "name": "#%%\n"
    }
   },
   "outputs": [
    {
     "data": {
      "text/html": [
       "<div>\n",
       "<style scoped>\n",
       "    .dataframe tbody tr th:only-of-type {\n",
       "        vertical-align: middle;\n",
       "    }\n",
       "\n",
       "    .dataframe tbody tr th {\n",
       "        vertical-align: top;\n",
       "    }\n",
       "\n",
       "    .dataframe thead th {\n",
       "        text-align: right;\n",
       "    }\n",
       "</style>\n",
       "<table border=\"1\" class=\"dataframe\">\n",
       "  <thead>\n",
       "    <tr style=\"text-align: right;\">\n",
       "      <th></th>\n",
       "      <th>col1</th>\n",
       "      <th>col2</th>\n",
       "      <th>col3</th>\n",
       "      <th>geometry</th>\n",
       "    </tr>\n",
       "  </thead>\n",
       "  <tbody>\n",
       "    <tr>\n",
       "      <th>0</th>\n",
       "      <td>1</td>\n",
       "      <td>Abanda</td>\n",
       "      <td>Census Designated Place</td>\n",
       "      <td>POINT (-85.52464 33.09138)</td>\n",
       "    </tr>\n",
       "    <tr>\n",
       "      <th>1</th>\n",
       "      <td>2</td>\n",
       "      <td>Abbeville</td>\n",
       "      <td>city</td>\n",
       "      <td>POINT (-85.25277 31.56642)</td>\n",
       "    </tr>\n",
       "    <tr>\n",
       "      <th>2</th>\n",
       "      <td>3</td>\n",
       "      <td>Adamsville</td>\n",
       "      <td>city</td>\n",
       "      <td>POINT (-87.00800 33.62020)</td>\n",
       "    </tr>\n",
       "    <tr>\n",
       "      <th>3</th>\n",
       "      <td>4</td>\n",
       "      <td>Addison</td>\n",
       "      <td>town</td>\n",
       "      <td>POINT (-87.17656 34.20164)</td>\n",
       "    </tr>\n",
       "    <tr>\n",
       "      <th>4</th>\n",
       "      <td>5</td>\n",
       "      <td>Akron</td>\n",
       "      <td>town</td>\n",
       "      <td>POINT (-87.74287 32.87853)</td>\n",
       "    </tr>\n",
       "    <tr>\n",
       "      <th>...</th>\n",
       "      <td>...</td>\n",
       "      <td>...</td>\n",
       "      <td>...</td>\n",
       "      <td>...</td>\n",
       "    </tr>\n",
       "    <tr>\n",
       "      <th>29291</th>\n",
       "      <td>29292</td>\n",
       "      <td>Y-O Ranch</td>\n",
       "      <td>Census Designated Place</td>\n",
       "      <td>POINT (-104.92297 42.03516)</td>\n",
       "    </tr>\n",
       "    <tr>\n",
       "      <th>29292</th>\n",
       "      <td>29293</td>\n",
       "      <td>St. Joseph</td>\n",
       "      <td>Census Designated Place</td>\n",
       "      <td>POINT (-91.04358 43.78549)</td>\n",
       "    </tr>\n",
       "    <tr>\n",
       "      <th>29293</th>\n",
       "      <td>29294</td>\n",
       "      <td>Summit</td>\n",
       "      <td>village</td>\n",
       "      <td>POINT (-88.51169 43.04788)</td>\n",
       "    </tr>\n",
       "    <tr>\n",
       "      <th>29294</th>\n",
       "      <td>29295</td>\n",
       "      <td>Fox Park</td>\n",
       "      <td>Census Designated Place</td>\n",
       "      <td>POINT (-106.15338 41.08013)</td>\n",
       "    </tr>\n",
       "    <tr>\n",
       "      <th>29295</th>\n",
       "      <td>29296</td>\n",
       "      <td>Point of Rocks</td>\n",
       "      <td>Census Designated Place</td>\n",
       "      <td>POINT (-108.78913 41.68600)</td>\n",
       "    </tr>\n",
       "  </tbody>\n",
       "</table>\n",
       "<p>29296 rows × 4 columns</p>\n",
       "</div>"
      ],
      "text/plain": [
       "        col1            col2                     col3  \\\n",
       "0          1          Abanda  Census Designated Place   \n",
       "1          2       Abbeville                     city   \n",
       "2          3      Adamsville                     city   \n",
       "3          4         Addison                     town   \n",
       "4          5           Akron                     town   \n",
       "...      ...             ...                      ...   \n",
       "29291  29292       Y-O Ranch  Census Designated Place   \n",
       "29292  29293      St. Joseph  Census Designated Place   \n",
       "29293  29294          Summit                  village   \n",
       "29294  29295        Fox Park  Census Designated Place   \n",
       "29295  29296  Point of Rocks  Census Designated Place   \n",
       "\n",
       "                          geometry  \n",
       "0       POINT (-85.52464 33.09138)  \n",
       "1       POINT (-85.25277 31.56642)  \n",
       "2       POINT (-87.00800 33.62020)  \n",
       "3       POINT (-87.17656 34.20164)  \n",
       "4       POINT (-87.74287 32.87853)  \n",
       "...                            ...  \n",
       "29291  POINT (-104.92297 42.03516)  \n",
       "29292   POINT (-91.04358 43.78549)  \n",
       "29293   POINT (-88.51169 43.04788)  \n",
       "29294  POINT (-106.15338 41.08013)  \n",
       "29295  POINT (-108.78913 41.68600)  \n",
       "\n",
       "[29296 rows x 4 columns]"
      ]
     },
     "execution_count": 16,
     "metadata": {},
     "output_type": "execute_result"
    }
   ],
   "source": [
    "df.to_postgis()"
   ]
  },
  {
   "cell_type": "code",
   "execution_count": null,
   "id": "74ef95d2",
   "metadata": {
    "pycharm": {
     "name": "#%%\n"
    }
   },
   "outputs": [],
   "source": []
  }
 ],
 "metadata": {
  "kernelspec": {
   "display_name": "Python 3",
   "language": "python",
   "name": "python3"
  },
  "language_info": {
   "codemirror_mode": {
    "name": "ipython",
    "version": 3
   },
   "file_extension": ".py",
   "mimetype": "text/x-python",
   "name": "python",
   "nbconvert_exporter": "python",
   "pygments_lexer": "ipython3",
   "version": "3.7.11"
  }
 },
 "nbformat": 4,
 "nbformat_minor": 5
}